{
  "nbformat": 4,
  "nbformat_minor": 0,
  "metadata": {
    "colab": {
      "provenance": []
    },
    "kernelspec": {
      "name": "python3",
      "display_name": "Python 3"
    },
    "language_info": {
      "name": "python"
    }
  },
  "cells": [
    {
      "cell_type": "code",
      "source": [
        "import pandas as pd\n",
        "\n",
        "df = pd.read_excel('/content/sample_data/exp_data.xlsx')\n",
        "\n",
        "data = df.to_dict('records')"
      ],
      "metadata": {
        "id": "5e1DLPSoGws2"
      },
      "execution_count": null,
      "outputs": []
    },
    {
      "cell_type": "code",
      "source": [
        "data[:3]"
      ],
      "metadata": {
        "colab": {
          "base_uri": "https://localhost:8080/"
        },
        "id": "TlStEyN2HaIG",
        "outputId": "35c96878-0321-4c23-c479-4e041571d46a"
      },
      "execution_count": null,
      "outputs": [
        {
          "output_type": "execute_result",
          "data": {
            "text/plain": [
              "[{'Item': 'Критики хвалили картину художницы, часто выставлявшейся в местных галереях.\\nЧасто выставлялась… а) картина б) художница',\n",
              "  'ex_item': 'ПЗ',\n",
              "  'animacy': 'НО',\n",
              "  '1st_noun': 'а) картина'},\n",
              " {'Item': 'Конструктор переживал из–за двигателя автомобиля, внезапно сломавшегося после гонки.\\nСломался после гонки… а) автомобиль б) двигатель',\n",
              "  'ex_item': 'НЗ',\n",
              "  'animacy': 'НН',\n",
              "  '1st_noun': 'б) двигатель'},\n",
              " {'Item': 'Акционеры ругали политику компании, совсем не учитывавшую их интересы.\\nНе учитывала интересы… а) компания б) политика',\n",
              "  'ex_item': 'РЗ',\n",
              "  'animacy': 'НН',\n",
              "  '1st_noun': 'б) политика'}]"
            ]
          },
          "metadata": {},
          "execution_count": 2
        }
      ]
    },
    {
      "cell_type": "code",
      "execution_count": null,
      "metadata": {
        "id": "lWKz8SpMGru6"
      },
      "outputs": [],
      "source": [
        "# no cash\n",
        "import os\n",
        "import pandas as pd\n",
        "from openai import OpenAI\n",
        "from google.colab import userdata\n",
        "import random\n",
        "key = userdata.get('OPENAI_KEY')\n",
        "client = OpenAI(api_key=key)\n",
        "\n",
        "res = []\n",
        "\n",
        "for i in range(60):\n",
        "  shuffled_data = random.sample(data, len(data))\n",
        "\n",
        "  for item in shuffled_data:\n",
        "    chat_completion = client.chat.completions.create(\n",
        "              messages=[\n",
        "                        {\n",
        "                                        \"role\": \"user\",\n",
        "                                        \"content\": f\"Прочитайте предложение и ответьте на вопрос по его содержанию. Пожалуйста, \\\n",
        "                                        ответьте только одним словом: выбранным вариантов ответа.\\n{item['Item']}.\",\n",
        "                                        }\n",
        "                            ],\n",
        "                  model=\"gpt-4o\",\n",
        "                  temperature=0,\n",
        "              )\n",
        "    response = chat_completion.choices[0].message.content.lower()\n",
        "    #print(response)\n",
        "    if item['ex_item'] == 'РЗ':\n",
        "      if response.lower() in item['1st_noun'] or item['1st_noun'] in response.lower():\n",
        "        ans = '1'\n",
        "      else:\n",
        "        ans = '0'\n",
        "    elif item['ex_item'] == 'ПЗ':\n",
        "      if response.lower() in item['1st_noun'] or item['1st_noun'] in response.lower():\n",
        "        ans = '0'\n",
        "      else:\n",
        "        ans = '1'\n",
        "    elif item['ex_item'] == 'НЗ':\n",
        "      if response.lower() in item['1st_noun'] or item['1st_noun'] in response.lower():\n",
        "        ans = 'РЗ'\n",
        "      else:\n",
        "        ans = 'ПЗ'\n",
        "    else:\n",
        "      ans = '-'\n",
        "    res.append({\"model\": \"gpt-4o\", \"item\": item['Item'], \"response\": response,\n",
        "                \"ex_item\": item['ex_item'], \"animacy\": item['animacy'], \"right_answer\": ans})\n",
        "\n",
        "res_df = pd.DataFrame(res)\n",
        "res_df.to_excel('/content/sample_data/result_.xlsx', index=False, sheet_name='gpt')"
      ]
    },
    {
      "cell_type": "code",
      "source": [
        "from google.colab import files\n",
        "files.download(\"/content/sample_data/result_.xlsx\")"
      ],
      "metadata": {
        "colab": {
          "base_uri": "https://localhost:8080/",
          "height": 17
        },
        "id": "uwgqg8rzGx75",
        "outputId": "a7cb46ab-72d3-4e46-eb7d-9a8c370f1e3a"
      },
      "execution_count": null,
      "outputs": [
        {
          "output_type": "display_data",
          "data": {
            "text/plain": [
              "<IPython.core.display.Javascript object>"
            ],
            "application/javascript": [
              "\n",
              "    async function download(id, filename, size) {\n",
              "      if (!google.colab.kernel.accessAllowed) {\n",
              "        return;\n",
              "      }\n",
              "      const div = document.createElement('div');\n",
              "      const label = document.createElement('label');\n",
              "      label.textContent = `Downloading \"${filename}\": `;\n",
              "      div.appendChild(label);\n",
              "      const progress = document.createElement('progress');\n",
              "      progress.max = size;\n",
              "      div.appendChild(progress);\n",
              "      document.body.appendChild(div);\n",
              "\n",
              "      const buffers = [];\n",
              "      let downloaded = 0;\n",
              "\n",
              "      const channel = await google.colab.kernel.comms.open(id);\n",
              "      // Send a message to notify the kernel that we're ready.\n",
              "      channel.send({})\n",
              "\n",
              "      for await (const message of channel.messages) {\n",
              "        // Send a message to notify the kernel that we're ready.\n",
              "        channel.send({})\n",
              "        if (message.buffers) {\n",
              "          for (const buffer of message.buffers) {\n",
              "            buffers.push(buffer);\n",
              "            downloaded += buffer.byteLength;\n",
              "            progress.value = downloaded;\n",
              "          }\n",
              "        }\n",
              "      }\n",
              "      const blob = new Blob(buffers, {type: 'application/binary'});\n",
              "      const a = document.createElement('a');\n",
              "      a.href = window.URL.createObjectURL(blob);\n",
              "      a.download = filename;\n",
              "      div.appendChild(a);\n",
              "      a.click();\n",
              "      div.remove();\n",
              "    }\n",
              "  "
            ]
          },
          "metadata": {}
        },
        {
          "output_type": "display_data",
          "data": {
            "text/plain": [
              "<IPython.core.display.Javascript object>"
            ],
            "application/javascript": [
              "download(\"download_b9ba8ddc-ad80-4839-abb6-f42f64d8bd2b\", \"result_60.xlsx\", 489798)"
            ]
          },
          "metadata": {}
        }
      ]
    }
  ]
}
